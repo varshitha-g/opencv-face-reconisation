{
 "cells": [
  {
   "cell_type": "code",
   "execution_count": 10,
   "metadata": {},
   "outputs": [],
   "source": [
    "import cv2"
   ]
  },
  {
   "cell_type": "code",
   "execution_count": 25,
   "metadata": {},
   "outputs": [],
   "source": [
    "trained_faces_data = cv2.CascadeClassifier(\"inputs/haarcascade_frontalface_default.xml\")"
   ]
  },
  {
   "cell_type": "code",
   "execution_count": 26,
   "metadata": {},
   "outputs": [],
   "source": [
    "img = cv2.imread('inputs/xyz.jpg')\n",
    "resized = cv2.resize(img, (500, 500))\n",
    "grayscaled_img = cv2.cvtColor(resized, cv2.COLOR_BGR2GRAY)"
   ]
  },
  {
   "cell_type": "code",
   "execution_count": 27,
   "metadata": {},
   "outputs": [
    {
     "name": "stdout",
     "output_type": "stream",
     "text": [
      "[[[196 200 205]\n",
      "  [195 199 204]\n",
      "  [195 199 204]\n",
      "  ...\n",
      "  [237 235 234]\n",
      "  [236 234 234]\n",
      "  [234 232 232]]\n",
      "\n",
      " [[196 200 205]\n",
      "  [196 200 205]\n",
      "  [196 200 205]\n",
      "  ...\n",
      "  [237 235 234]\n",
      "  [238 236 236]\n",
      "  [236 234 234]]\n",
      "\n",
      " [[197 201 206]\n",
      "  [197 201 206]\n",
      "  [197 201 206]\n",
      "  ...\n",
      "  [237 235 234]\n",
      "  [237 235 235]\n",
      "  [234 232 232]]\n",
      "\n",
      " ...\n",
      "\n",
      " [[168 171 179]\n",
      "  [163 169 176]\n",
      "  [156 160 171]\n",
      "  ...\n",
      "  [147 141 146]\n",
      "  [145 140 142]\n",
      "  [141 136 138]]\n",
      "\n",
      " [[184 187 195]\n",
      "  [174 180 187]\n",
      "  [167 172 181]\n",
      "  ...\n",
      "  [141 136 138]\n",
      "  [133 128 130]\n",
      "  [126 121 123]]\n",
      "\n",
      " [[188 194 199]\n",
      "  [186 192 197]\n",
      "  [181 187 192]\n",
      "  ...\n",
      "  [141 134 137]\n",
      "  [132 127 129]\n",
      "  [131 126 127]]]\n"
     ]
    }
   ],
   "source": [
    "print(img)"
   ]
  },
  {
   "cell_type": "code",
   "execution_count": 28,
   "metadata": {},
   "outputs": [
    {
     "name": "stdout",
     "output_type": "stream",
     "text": [
      "[[373  91  67  67]\n",
      " [302 132  66  66]\n",
      " [ 33 167  78  78]\n",
      " [217 144  64  64]\n",
      " [144 102  74  74]]\n"
     ]
    }
   ],
   "source": [
    "face_cordinates = trained_faces_data.detectMultiScale(grayscaled_img)\n",
    "\n",
    "print(face_cordinates)"
   ]
  },
  {
   "cell_type": "code",
   "execution_count": 29,
   "metadata": {},
   "outputs": [
    {
     "data": {
      "text/plain": [
       "5"
      ]
     },
     "execution_count": 29,
     "metadata": {},
     "output_type": "execute_result"
    }
   ],
   "source": [
    "len(face_cordinates)"
   ]
  },
  {
   "cell_type": "code",
   "execution_count": 30,
   "metadata": {},
   "outputs": [],
   "source": [
    "for i in range(0,len(face_cordinates)):\n",
    "    (x, y, w, h) = face_cordinates[i]\n",
    "    cv2.rectangle( resized, (x, y, w, h),(0,255,0), 2)\n",
    "    "
   ]
  },
  {
   "cell_type": "code",
   "execution_count": 31,
   "metadata": {},
   "outputs": [],
   "source": [
    "cv2.imshow(\"result\", resized)\n",
    "cv2.waitKey(0)\n",
    "\n",
    "cv2.destroyAllWindows()"
   ]
  }
 ],
 "metadata": {
  "kernelspec": {
   "display_name": "Python 3",
   "language": "python",
   "name": "python3"
  },
  "language_info": {
   "codemirror_mode": {
    "name": "ipython",
    "version": 3
   },
   "file_extension": ".py",
   "mimetype": "text/x-python",
   "name": "python",
   "nbconvert_exporter": "python",
   "pygments_lexer": "ipython3",
   "version": "3.8.2"
  }
 },
 "nbformat": 4,
 "nbformat_minor": 4
}
